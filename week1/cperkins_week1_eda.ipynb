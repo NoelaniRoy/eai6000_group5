{
 "cells": [
  {
   "cell_type": "markdown",
   "metadata": {},
   "source": [
    "# Assignment Week 1 - Group 5\n",
    "\n",
    "### Noelani Roy, Yihong Qiu, Cosimo Cambi, Craig Perkins"
   ]
  },
  {
   "cell_type": "code",
   "execution_count": 2,
   "metadata": {},
   "outputs": [],
   "source": [
    "import pandas as pd\n",
    "import numpy as np"
   ]
  },
  {
   "cell_type": "code",
   "execution_count": 3,
   "metadata": {},
   "outputs": [],
   "source": [
    "filename = \"../PS_20174392719_1491204439457_log.csv\"\n",
    "\n",
    "fraud_df = pd.read_csv(filename)\n",
    "\n",
    "# print(fraud_df)"
   ]
  },
  {
   "cell_type": "code",
   "execution_count": 9,
   "metadata": {},
   "outputs": [
    {
     "name": "stdout",
     "output_type": "stream",
     "text": [
      "(6362620, 11)\n"
     ]
    }
   ],
   "source": [
    "print(fraud_df.shape)"
   ]
  },
  {
   "cell_type": "code",
   "execution_count": null,
   "metadata": {},
   "outputs": [],
   "source": [
    "# from pandasgui import show\n",
    "\n",
    "# show(fraud_df.head(100), settings={'block': True})"
   ]
  },
  {
   "cell_type": "code",
   "execution_count": 5,
   "metadata": {},
   "outputs": [
    {
     "data": {
      "text/html": [
       "<div>\n",
       "<style scoped>\n",
       "    .dataframe tbody tr th:only-of-type {\n",
       "        vertical-align: middle;\n",
       "    }\n",
       "\n",
       "    .dataframe tbody tr th {\n",
       "        vertical-align: top;\n",
       "    }\n",
       "\n",
       "    .dataframe thead th {\n",
       "        text-align: right;\n",
       "    }\n",
       "</style>\n",
       "<table border=\"1\" class=\"dataframe\">\n",
       "  <thead>\n",
       "    <tr style=\"text-align: right;\">\n",
       "      <th></th>\n",
       "      <th>step</th>\n",
       "      <th>amount</th>\n",
       "      <th>oldbalanceOrg</th>\n",
       "      <th>newbalanceOrig</th>\n",
       "      <th>oldbalanceDest</th>\n",
       "      <th>newbalanceDest</th>\n",
       "      <th>isFraud</th>\n",
       "      <th>isFlaggedFraud</th>\n",
       "    </tr>\n",
       "  </thead>\n",
       "  <tbody>\n",
       "    <tr>\n",
       "      <th>count</th>\n",
       "      <td>6.362620e+06</td>\n",
       "      <td>6.362620e+06</td>\n",
       "      <td>6.362620e+06</td>\n",
       "      <td>6.362620e+06</td>\n",
       "      <td>6.362620e+06</td>\n",
       "      <td>6.362620e+06</td>\n",
       "      <td>6.362620e+06</td>\n",
       "      <td>6.362620e+06</td>\n",
       "    </tr>\n",
       "    <tr>\n",
       "      <th>mean</th>\n",
       "      <td>2.433972e+02</td>\n",
       "      <td>1.798619e+05</td>\n",
       "      <td>8.338831e+05</td>\n",
       "      <td>8.551137e+05</td>\n",
       "      <td>1.100702e+06</td>\n",
       "      <td>1.224996e+06</td>\n",
       "      <td>1.290820e-03</td>\n",
       "      <td>2.514687e-06</td>\n",
       "    </tr>\n",
       "    <tr>\n",
       "      <th>std</th>\n",
       "      <td>1.423320e+02</td>\n",
       "      <td>6.038582e+05</td>\n",
       "      <td>2.888243e+06</td>\n",
       "      <td>2.924049e+06</td>\n",
       "      <td>3.399180e+06</td>\n",
       "      <td>3.674129e+06</td>\n",
       "      <td>3.590480e-02</td>\n",
       "      <td>1.585775e-03</td>\n",
       "    </tr>\n",
       "    <tr>\n",
       "      <th>min</th>\n",
       "      <td>1.000000e+00</td>\n",
       "      <td>0.000000e+00</td>\n",
       "      <td>0.000000e+00</td>\n",
       "      <td>0.000000e+00</td>\n",
       "      <td>0.000000e+00</td>\n",
       "      <td>0.000000e+00</td>\n",
       "      <td>0.000000e+00</td>\n",
       "      <td>0.000000e+00</td>\n",
       "    </tr>\n",
       "    <tr>\n",
       "      <th>25%</th>\n",
       "      <td>1.560000e+02</td>\n",
       "      <td>1.338957e+04</td>\n",
       "      <td>0.000000e+00</td>\n",
       "      <td>0.000000e+00</td>\n",
       "      <td>0.000000e+00</td>\n",
       "      <td>0.000000e+00</td>\n",
       "      <td>0.000000e+00</td>\n",
       "      <td>0.000000e+00</td>\n",
       "    </tr>\n",
       "    <tr>\n",
       "      <th>50%</th>\n",
       "      <td>2.390000e+02</td>\n",
       "      <td>7.487194e+04</td>\n",
       "      <td>1.420800e+04</td>\n",
       "      <td>0.000000e+00</td>\n",
       "      <td>1.327057e+05</td>\n",
       "      <td>2.146614e+05</td>\n",
       "      <td>0.000000e+00</td>\n",
       "      <td>0.000000e+00</td>\n",
       "    </tr>\n",
       "    <tr>\n",
       "      <th>75%</th>\n",
       "      <td>3.350000e+02</td>\n",
       "      <td>2.087215e+05</td>\n",
       "      <td>1.073152e+05</td>\n",
       "      <td>1.442584e+05</td>\n",
       "      <td>9.430367e+05</td>\n",
       "      <td>1.111909e+06</td>\n",
       "      <td>0.000000e+00</td>\n",
       "      <td>0.000000e+00</td>\n",
       "    </tr>\n",
       "    <tr>\n",
       "      <th>max</th>\n",
       "      <td>7.430000e+02</td>\n",
       "      <td>9.244552e+07</td>\n",
       "      <td>5.958504e+07</td>\n",
       "      <td>4.958504e+07</td>\n",
       "      <td>3.560159e+08</td>\n",
       "      <td>3.561793e+08</td>\n",
       "      <td>1.000000e+00</td>\n",
       "      <td>1.000000e+00</td>\n",
       "    </tr>\n",
       "  </tbody>\n",
       "</table>\n",
       "</div>"
      ],
      "text/plain": [
       "               step        amount  oldbalanceOrg  newbalanceOrig  \\\n",
       "count  6.362620e+06  6.362620e+06   6.362620e+06    6.362620e+06   \n",
       "mean   2.433972e+02  1.798619e+05   8.338831e+05    8.551137e+05   \n",
       "std    1.423320e+02  6.038582e+05   2.888243e+06    2.924049e+06   \n",
       "min    1.000000e+00  0.000000e+00   0.000000e+00    0.000000e+00   \n",
       "25%    1.560000e+02  1.338957e+04   0.000000e+00    0.000000e+00   \n",
       "50%    2.390000e+02  7.487194e+04   1.420800e+04    0.000000e+00   \n",
       "75%    3.350000e+02  2.087215e+05   1.073152e+05    1.442584e+05   \n",
       "max    7.430000e+02  9.244552e+07   5.958504e+07    4.958504e+07   \n",
       "\n",
       "       oldbalanceDest  newbalanceDest       isFraud  isFlaggedFraud  \n",
       "count    6.362620e+06    6.362620e+06  6.362620e+06    6.362620e+06  \n",
       "mean     1.100702e+06    1.224996e+06  1.290820e-03    2.514687e-06  \n",
       "std      3.399180e+06    3.674129e+06  3.590480e-02    1.585775e-03  \n",
       "min      0.000000e+00    0.000000e+00  0.000000e+00    0.000000e+00  \n",
       "25%      0.000000e+00    0.000000e+00  0.000000e+00    0.000000e+00  \n",
       "50%      1.327057e+05    2.146614e+05  0.000000e+00    0.000000e+00  \n",
       "75%      9.430367e+05    1.111909e+06  0.000000e+00    0.000000e+00  \n",
       "max      3.560159e+08    3.561793e+08  1.000000e+00    1.000000e+00  "
      ]
     },
     "execution_count": 5,
     "metadata": {},
     "output_type": "execute_result"
    }
   ],
   "source": [
    "fraud_df.describe()"
   ]
  },
  {
   "cell_type": "code",
   "execution_count": 12,
   "metadata": {},
   "outputs": [
    {
     "data": {
      "text/plain": [
       "<AxesSubplot:>"
      ]
     },
     "execution_count": 12,
     "metadata": {},
     "output_type": "execute_result"
    },
    {
     "data": {
      "image/png": "[encoded data removed]",
      "text/plain": [
       "<Figure size 1152x1152 with 1 Axes>"
      ]
     },
     "metadata": {
      "needs_background": "light"
     },
     "output_type": "display_data"
    }
   ],
   "source": [
    "fraud_df.head(30).boxplot(column='amount', figsize=(16, 16))"
   ]
  },
  {
   "cell_type": "code",
   "execution_count": 13,
   "metadata": {},
   "outputs": [
    {
     "name": "stdout",
     "output_type": "stream",
     "text": [
      "    step      type     amount     nameOrig  oldbalanceOrg  newbalanceOrig  \\\n",
      "0      1   PAYMENT    9839.64  C1231006815      170136.00       160296.36   \n",
      "1      1   PAYMENT    1864.28  C1666544295       21249.00        19384.72   \n",
      "2      1  TRANSFER     181.00  C1305486145         181.00            0.00   \n",
      "3      1  CASH_OUT     181.00   C840083671         181.00            0.00   \n",
      "4      1   PAYMENT   11668.14  C2048537720       41554.00        29885.86   \n",
      "5      1   PAYMENT    7817.71    C90045638       53860.00        46042.29   \n",
      "6      1   PAYMENT    7107.77   C154988899      183195.00       176087.23   \n",
      "7      1   PAYMENT    7861.64  C1912850431      176087.23       168225.59   \n",
      "8      1   PAYMENT    4024.36  C1265012928        2671.00            0.00   \n",
      "9      1     DEBIT    5337.77   C712410124       41720.00        36382.23   \n",
      "10     1     DEBIT    9644.94  C1900366749        4465.00            0.00   \n",
      "11     1   PAYMENT    3099.97   C249177573       20771.00        17671.03   \n",
      "12     1   PAYMENT    2560.74  C1648232591        5070.00         2509.26   \n",
      "13     1   PAYMENT   11633.76  C1716932897       10127.00            0.00   \n",
      "14     1   PAYMENT    4098.78  C1026483832      503264.00       499165.22   \n",
      "15     1  CASH_OUT  229133.94   C905080434       15325.00            0.00   \n",
      "16     1   PAYMENT    1563.82   C761750706         450.00            0.00   \n",
      "17     1   PAYMENT    1157.86  C1237762639       21156.00        19998.14   \n",
      "18     1   PAYMENT     671.64  C2033524545       15123.00        14451.36   \n",
      "19     1  TRANSFER  215310.30  C1670993182         705.00            0.00   \n",
      "20     1   PAYMENT    1373.43    C20804602       13854.00        12480.57   \n",
      "21     1     DEBIT    9302.79  C1566511282       11299.00         1996.21   \n",
      "22     1     DEBIT    1065.41  C1959239586        1817.00          751.59   \n",
      "23     1   PAYMENT    3876.41   C504336483       67852.00        63975.59   \n",
      "24     1  TRANSFER  311685.89  C1984094095       10835.00            0.00   \n",
      "25     1   PAYMENT    6061.13  C1043358826         443.00            0.00   \n",
      "26     1   PAYMENT    9478.39  C1671590089      116494.00       107015.61   \n",
      "27     1   PAYMENT    8009.09  C1053967012       10968.00         2958.91   \n",
      "28     1   PAYMENT    8901.99  C1632497828        2958.91            0.00   \n",
      "29     1   PAYMENT    9920.52   C764826684           0.00            0.00   \n",
      "\n",
      "       nameDest  oldbalanceDest  newbalanceDest  isFraud  isFlaggedFraud  \n",
      "0   M1979787155             0.0            0.00        0               0  \n",
      "1   M2044282225             0.0            0.00        0               0  \n",
      "2    C553264065             0.0            0.00        1               0  \n",
      "3     C38997010         21182.0            0.00        1               0  \n",
      "4   M1230701703             0.0            0.00        0               0  \n",
      "5    M573487274             0.0            0.00        0               0  \n",
      "6    M408069119             0.0            0.00        0               0  \n",
      "7    M633326333             0.0            0.00        0               0  \n",
      "8   M1176932104             0.0            0.00        0               0  \n",
      "9    C195600860         41898.0        40348.79        0               0  \n",
      "10   C997608398         10845.0       157982.12        0               0  \n",
      "11  M2096539129             0.0            0.00        0               0  \n",
      "12   M972865270             0.0            0.00        0               0  \n",
      "13   M801569151             0.0            0.00        0               0  \n",
      "14  M1635378213             0.0            0.00        0               0  \n",
      "15   C476402209          5083.0        51513.44        0               0  \n",
      "16  M1731217984             0.0            0.00        0               0  \n",
      "17  M1877062907             0.0            0.00        0               0  \n",
      "18   M473053293             0.0            0.00        0               0  \n",
      "19  C1100439041         22425.0            0.00        0               0  \n",
      "20  M1344519051             0.0            0.00        0               0  \n",
      "21  C1973538135         29832.0        16896.70        0               0  \n",
      "22   C515132998         10330.0            0.00        0               0  \n",
      "23  M1404932042             0.0            0.00        0               0  \n",
      "24   C932583850          6267.0      2719172.89        0               0  \n",
      "25  M1558079303             0.0            0.00        0               0  \n",
      "26    M58488213             0.0            0.00        0               0  \n",
      "27   M295304806             0.0            0.00        0               0  \n",
      "28    M33419717             0.0            0.00        0               0  \n",
      "29  M1940055334             0.0            0.00        0               0  \n"
     ]
    }
   ],
   "source": [
    "print(fraud_df.head(30))"
   ]
  },
  {
   "cell_type": "code",
   "execution_count": null,
   "metadata": {},
   "outputs": [],
   "source": []
  }
 ],
 "metadata": {
  "kernelspec": {
   "display_name": "Python 3",
   "language": "python",
   "name": "python3"
  },
  "language_info": {
   "codemirror_mode": {
    "name": "ipython",
    "version": 3
   },
   "file_extension": ".py",
   "mimetype": "text/x-python",
   "name": "python",
   "nbconvert_exporter": "python",
   "pygments_lexer": "ipython3",
   "version": "3.8.6"
  }
 },
 "nbformat": 4,
 "nbformat_minor": 4
}
